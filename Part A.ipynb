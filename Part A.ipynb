{
 "cells": [
  {
   "cell_type": "code",
   "execution_count": 2,
   "metadata": {},
   "outputs": [],
   "source": [
    "# PART A\n",
    "\n",
    "import pandas as pd\n",
    "import numpy as np\n",
    "import seaborn as sns; sns.set()\n",
    "import matplotlib.pyplot as plt\n"
   ]
  },
  {
   "cell_type": "code",
   "execution_count": 3,
   "metadata": {},
   "outputs": [
    {
     "name": "stdout",
     "output_type": "stream",
     "text": [
      "Values for driven_wheels are: \n",
      "front wheel drive    4787\n",
      "rear wheel drive     3371\n",
      "all wheel drive      2353\n",
      "four wheel drive     1403\n",
      "Name: Driven_Wheels, dtype: int64\n",
      "There are 0 null values\n",
      "All wheel drive per make: \n",
      "Make\n",
      "Acura             69\n",
      "Audi             254\n",
      "BMW              144\n",
      "Bentley           48\n",
      "Bugatti            3\n",
      "Buick             47\n",
      "Cadillac         122\n",
      "Chevrolet         51\n",
      "Chrysler          29\n",
      "Dodge             44\n",
      "FIAT               7\n",
      "Ferrari            3\n",
      "Ford              94\n",
      "GMC               42\n",
      "Genesis            1\n",
      "Honda             66\n",
      "Hyundai           38\n",
      "Infiniti         108\n",
      "Kia               27\n",
      "Lamborghini       43\n",
      "Land Rover        56\n",
      "Lexus             59\n",
      "Lincoln           45\n",
      "Maserati          10\n",
      "Mazda             57\n",
      "Mercedes-Benz    134\n",
      "Mitsubishi        32\n",
      "Nissan            52\n",
      "Oldsmobile         9\n",
      "Plymouth           6\n",
      "Pontiac           17\n",
      "Porsche           76\n",
      "Saab              34\n",
      "Subaru           221\n",
      "Suzuki            54\n",
      "Tesla             11\n",
      "Toyota            73\n",
      "Volkswagen        67\n",
      "Volvo            100\n",
      "Name: Driven_Wheels, dtype: int64\n",
      "Chevrolet has the most cars with rear wheel drive. Total of 429 cars\n"
     ]
    }
   ],
   "source": [
    "#1\n",
    "\n",
    "data = pd.read_csv('Car_Detail.csv')\n",
    "\n",
    "#checking to see if there are any null values or typos \n",
    "print('Values for driven_wheels are: ')  \n",
    "print(data['Driven_Wheels'].value_counts())\n",
    "print('There are ' + str(data['Driven_Wheels'].isnull().sum()) + ' null values')\n",
    "\n",
    "#subsetting cars with only all wheel drive\n",
    "all_wheel_drive = data[data['Driven_Wheels'] == 'all wheel drive']\n",
    "awd_bymake = all_wheel_drive.groupby('Make')['Driven_Wheels'].count()\n",
    "\n",
    "print(\"All wheel drive per make: \")\n",
    "print(awd_bymake)\n",
    "\n",
    "#subsetting cars with only rear wheel drive\n",
    "rear_wheel = data[data['Driven_Wheels'] == 'rear wheel drive']\n",
    "rw_bymake = rear_wheel.groupby('Make')['Driven_Wheels'].count()\n",
    "print(rw_bymake.idxmax() + \" has the most cars with rear wheel drive. \" + \"Total of \" + str(rw_bymake.max()) + \" cars\")"
   ]
  },
  {
   "cell_type": "code",
   "execution_count": 4,
   "metadata": {},
   "outputs": [],
   "source": [
    "#2\n",
    "\n",
    "data_2014 = data[data['Year'] == 2014]\n",
    "data_2014['Market Category'].isnull().sum()\n",
    "#78 NA values\n",
    "\n",
    "#dataframe with no missing market category values in 2014\n",
    "data_2014 = data_2014[data_2014['Market Category'].isnull() == 0]\n",
    "\n",
    "#only looking at automatic and manual cars\n",
    "auto2014 = data_2014[data_2014['Transmission Type'] == 'AUTOMATIC']\n",
    "manual2014 = data_2014[(data_2014['Transmission Type'] == 'MANUAL')]\n"
   ]
  },
  {
   "cell_type": "code",
   "execution_count": 5,
   "metadata": {},
   "outputs": [],
   "source": [
    "#2 (continued)\n",
    "\n",
    "auto_categories = auto2014['Market Category'].value_counts()\n",
    "\n",
    "single_categories_auto = {}\n",
    "\n",
    "#In this loop, I am checking to see if the market category is a list and if it is, then I'm splitting it into each individual\n",
    "#category, so I can look at the values separately\n",
    "for i in range(len(auto_categories)):\n",
    "    temp_category = auto_categories.index[i]\n",
    "    \n",
    "    if ',' in temp_category:\n",
    "        temp_categories = temp_category.split(',')\n",
    "        \n",
    "        for j in range(len(temp_categories)):\n",
    "            if temp_categories[j] in single_categories_auto:\n",
    "                single_categories_auto[temp_categories[j]] += auto_categories[i]\n",
    "            else:\n",
    "                single_categories_auto[temp_categories[j]] = auto_categories[i]\n",
    "    \n",
    "    elif temp_category in single_categories_auto:\n",
    "        single_categories_auto[temp_category] += auto_categories[i]\n",
    "    \n",
    "    else:\n",
    "        single_categories_auto[temp_category] = auto_categories[i]\n",
    "\n",
    "\n",
    "manual_categories = manual2014['Market Category'].value_counts()\n",
    "\n",
    "single_categories_manual = {}\n",
    "\n",
    "for i in range(len(manual_categories)):\n",
    "    temp_category = manual_categories.index[i]\n",
    "    \n",
    "    if ',' in temp_category:\n",
    "        temp_categories = temp_category.split(',')\n",
    "        \n",
    "        for j in range(len(temp_categories)):\n",
    "            if temp_categories[j] in single_categories_manual:\n",
    "                single_categories_manual[temp_categories[j]] += manual_categories[i]\n",
    "            else:\n",
    "                single_categories_manual[temp_categories[j]] = manual_categories[i]\n",
    "    \n",
    "    elif temp_category in single_categories_manual:\n",
    "        single_categories_manual[temp_category] += manual_categories[i]\n",
    "    \n",
    "    else:\n",
    "        single_categories_manual[temp_category] = manual_categories[i]"
   ]
  },
  {
   "cell_type": "code",
   "execution_count": 6,
   "metadata": {},
   "outputs": [
    {
     "data": {
      "text/plain": [
       "<matplotlib.axes._subplots.AxesSubplot at 0x1cf3b83f348>"
      ]
     },
     "execution_count": 6,
     "metadata": {},
     "output_type": "execute_result"
    },
    {
     "data": {
      "image/png": "[encoded data removed]",
      "text/plain": [
       "<Figure size 432x288 with 1 Axes>"
      ]
     },
     "metadata": {
      "needs_background": "light"
     },
     "output_type": "display_data"
    }
   ],
   "source": [
    "#2 (continued)\n",
    "categories_2014 = {'AUTOMATIC': single_categories_auto, 'MANUAL':single_categories_manual}\n",
    "categories_2014 = pd.DataFrame(categories_2014)\n",
    "categories_2014.plot(kind='bar',stacked=True)\n",
    "\n",
    "\n",
    "#It appears that Flex Fuel cars are only automatic. Most of the luxury cars are primarily automatic, while high performance\n",
    "#cars are distributed almost evenly between automatic and manual."
   ]
  },
  {
   "cell_type": "code",
   "execution_count": 7,
   "metadata": {},
   "outputs": [
    {
     "name": "stdout",
     "output_type": "stream",
     "text": [
      "-0.16004267885202628\n"
     ]
    },
    {
     "data": {
      "text/plain": [
       "<matplotlib.axes._subplots.AxesSubplot at 0x1cf3cbda0c8>"
      ]
     },
     "execution_count": 7,
     "metadata": {},
     "output_type": "execute_result"
    },
    {
     "data": {
      "image/png": "[encoded data removed]",
      "text/plain": [
       "<Figure size 432x288 with 1 Axes>"
      ]
     },
     "metadata": {
      "needs_background": "light"
     },
     "output_type": "display_data"
    }
   ],
   "source": [
    "#3\n",
    "print(data['highway MPG'].corr(data['MSRP']))\n",
    "\n",
    "#Correlation is -0.16, which suggests a very weak negative relationship at best; however, based on \n",
    "#graph below there does not seem to be a strong relationship and it seems that a few outliers may be \n",
    "#the cause for the slightly negative correlation coefficient.\n",
    "sns.scatterplot(data['highway MPG'], data['MSRP'])"
   ]
  },
  {
   "cell_type": "code",
   "execution_count": 14,
   "metadata": {},
   "outputs": [
    {
     "name": "stdout",
     "output_type": "stream",
     "text": [
      "Smallest increase in income happened in Texas from 1985 to 1986. Only a 0.0151% increase and $8 difference\n",
      "went from 52988 to 52966\n"
     ]
    }
   ],
   "source": [
    "#4\n",
    "houseprices = pd.read_csv('House_Detail.csv')\n",
    "\n",
    "oneyearchange = []\n",
    "\n",
    "#calculating 1 year change\n",
    "for i in range(len(houseprices)-1):\n",
    "    temp = {'Median_CA':None, 'Median_CO':None, 'Median_NY':None, 'Median_TX':None, 'Median_IN':None}\n",
    "    temp['Median_CA'] = (houseprices['Median_CA'][i+1] - houseprices['Median_CA'][i]) / houseprices['Median_CA'][i]\n",
    "    temp['Median_CO'] = (houseprices['Median_CO'][i+1] - houseprices['Median_CO'][i]) / houseprices['Median_CO'][i]\n",
    "    temp['Median_NY'] = (houseprices['Median_NY'][i+1] - houseprices['Median_NY'][i]) / houseprices['Median_NY'][i]\n",
    "    temp['Median_TX'] = (houseprices['Median_TX'][i+1] - houseprices['Median_TX'][i]) / houseprices['Median_TX'][i]\n",
    "    temp['Median_IN'] = (houseprices['Median_IN'][i+1] - houseprices['Median_IN'][i]) / houseprices['Median_IN'][i]\n",
    "    \n",
    "    oneyearchange.append(temp)\n",
    "\n",
    "oneyearchange = pd.DataFrame(oneyearchange)\n",
    "oneyearchange_positive = oneyearchange[oneyearchange[['Median_CA', 'Median_CO', 'Median_NY', 'Median_TX', 'Median_IN' ]] > 0] \n",
    "\n",
    "#the two lines below are to find smallest increase\n",
    "#oneyearchange_positive.min()\n",
    "#oneyearchange_positive.idxmin()\n",
    "\n",
    "print(\"Smallest increase in income happened in Texas from 1985 to 1986. Only a 0.0151% increase and $8 difference\")\n",
    "print(\"went from 52988 to 52966\")"
   ]
  },
  {
   "cell_type": "code",
   "execution_count": 15,
   "metadata": {},
   "outputs": [
    {
     "name": "stdout",
     "output_type": "stream",
     "text": [
      "From 1990 to 2017, California's median income is 92.7% correlated with median car msrp for that year\n",
      "From 1990 to 2017, Texas's median income is 61.2% correlated with median car msrp for that year\n"
     ]
    }
   ],
   "source": [
    "#5\n",
    "#since car data begins from 1990 and is till 2017, we must subset housepricing data to determine the correlation over the same time period.\n",
    "\n",
    "CA_income = houseprices['Median_CA'][6:34]\n",
    "TX_income = houseprices['Median_TX'][6:34]\n",
    "msrp_year = data.groupby('Year')['MSRP'].median()\n",
    "\n",
    "ca_corr = np.corrcoef(CA_income, msrp_year)\n",
    "tx_corr = np.corrcoef(TX_income, msrp_year)\n",
    "\n",
    "print(\"From 1990 to 2017, California's median income is 92.7% correlated with median car msrp for that year\")\n",
    "print(\"From 1990 to 2017, Texas's median income is 61.2% correlated with median car msrp for that year\")"
   ]
  },
  {
   "cell_type": "code",
   "execution_count": 16,
   "metadata": {},
   "outputs": [
    {
     "data": {
      "text/html": [
       "<div>\n",
       "<style scoped>\n",
       "    .dataframe tbody tr th:only-of-type {\n",
       "        vertical-align: middle;\n",
       "    }\n",
       "\n",
       "    .dataframe tbody tr th {\n",
       "        vertical-align: top;\n",
       "    }\n",
       "\n",
       "    .dataframe thead th {\n",
       "        text-align: right;\n",
       "    }\n",
       "</style>\n",
       "<table border=\"1\" class=\"dataframe\">\n",
       "  <thead>\n",
       "    <tr style=\"text-align: right;\">\n",
       "      <th></th>\n",
       "      <th></th>\n",
       "      <th>Engine HP</th>\n",
       "    </tr>\n",
       "    <tr>\n",
       "      <th>Year</th>\n",
       "      <th>Market Category</th>\n",
       "      <th></th>\n",
       "    </tr>\n",
       "  </thead>\n",
       "  <tbody>\n",
       "    <tr>\n",
       "      <td rowspan=\"5\" valign=\"top\">1990</td>\n",
       "      <td>Diesel,Luxury</td>\n",
       "      <td>134.000000</td>\n",
       "    </tr>\n",
       "    <tr>\n",
       "      <td>Hatchback</td>\n",
       "      <td>89.600000</td>\n",
       "    </tr>\n",
       "    <tr>\n",
       "      <td>Hatchback,Factory Tuner,Luxury,Performance</td>\n",
       "      <td>164.000000</td>\n",
       "    </tr>\n",
       "    <tr>\n",
       "      <td>Hatchback,Luxury,Performance</td>\n",
       "      <td>208.000000</td>\n",
       "    </tr>\n",
       "    <tr>\n",
       "      <td>Luxury</td>\n",
       "      <td>159.888889</td>\n",
       "    </tr>\n",
       "    <tr>\n",
       "      <td>...</td>\n",
       "      <td>...</td>\n",
       "      <td>...</td>\n",
       "    </tr>\n",
       "    <tr>\n",
       "      <td rowspan=\"5\" valign=\"top\">2017</td>\n",
       "      <td>Luxury,High-Performance</td>\n",
       "      <td>408.310345</td>\n",
       "    </tr>\n",
       "    <tr>\n",
       "      <td>Luxury,High-Performance,Hybrid</td>\n",
       "      <td>360.000000</td>\n",
       "    </tr>\n",
       "    <tr>\n",
       "      <td>Luxury,Hybrid</td>\n",
       "      <td>200.000000</td>\n",
       "    </tr>\n",
       "    <tr>\n",
       "      <td>Luxury,Performance</td>\n",
       "      <td>312.933962</td>\n",
       "    </tr>\n",
       "    <tr>\n",
       "      <td>Performance</td>\n",
       "      <td>262.268041</td>\n",
       "    </tr>\n",
       "  </tbody>\n",
       "</table>\n",
       "<p>598 rows × 1 columns</p>\n",
       "</div>"
      ],
      "text/plain": [
       "                                                  Engine HP\n",
       "Year Market Category                                       \n",
       "1990 Diesel,Luxury                               134.000000\n",
       "     Hatchback                                    89.600000\n",
       "     Hatchback,Factory Tuner,Luxury,Performance  164.000000\n",
       "     Hatchback,Luxury,Performance                208.000000\n",
       "     Luxury                                      159.888889\n",
       "...                                                     ...\n",
       "2017 Luxury,High-Performance                     408.310345\n",
       "     Luxury,High-Performance,Hybrid              360.000000\n",
       "     Luxury,Hybrid                               200.000000\n",
       "     Luxury,Performance                          312.933962\n",
       "     Performance                                 262.268041\n",
       "\n",
       "[598 rows x 1 columns]"
      ]
     },
     "execution_count": 16,
     "metadata": {},
     "output_type": "execute_result"
    }
   ],
   "source": [
    "#6\n",
    "\n",
    "hp_percategory = data.groupby(['Year', 'Market Category'])['Engine HP'].mean()\n",
    "\n",
    "hp_percategory = pd.DataFrame(hp_percategory)\n",
    "hp_percategory"
   ]
  }
 ],
 "metadata": {
  "kernelspec": {
   "display_name": "Python 3",
   "language": "python",
   "name": "python3"
  },
  "language_info": {
   "codemirror_mode": {
    "name": "ipython",
    "version": 3
   },
   "file_extension": ".py",
   "mimetype": "text/x-python",
   "name": "python",
   "nbconvert_exporter": "python",
   "pygments_lexer": "ipython3",
   "version": "3.7.4"
  }
 },
 "nbformat": 4,
 "nbformat_minor": 2
}
