{
 "cells": [
  {
   "cell_type": "code",
   "execution_count": 2,
   "metadata": {},
   "outputs": [],
   "source": [
    "#Part B\n",
    "import pandas as pd\n",
    "import numpy as np\n",
    "import seaborn as sns; sns.set()\n",
    "import matplotlib.pyplot as plt\n"
   ]
  },
  {
   "cell_type": "code",
   "execution_count": 9,
   "metadata": {},
   "outputs": [
    {
     "data": {
      "text/html": [
       "<div>\n",
       "<style scoped>\n",
       "    .dataframe tbody tr th:only-of-type {\n",
       "        vertical-align: middle;\n",
       "    }\n",
       "\n",
       "    .dataframe tbody tr th {\n",
       "        vertical-align: top;\n",
       "    }\n",
       "\n",
       "    .dataframe thead th {\n",
       "        text-align: right;\n",
       "    }\n",
       "</style>\n",
       "<table border=\"1\" class=\"dataframe\">\n",
       "  <thead>\n",
       "    <tr style=\"text-align: right;\">\n",
       "      <th></th>\n",
       "      <th>Year</th>\n",
       "      <th>% Large Cars</th>\n",
       "      <th>Median_CA</th>\n",
       "      <th>Median_CO</th>\n",
       "      <th>Median_NY</th>\n",
       "      <th>Median_TX</th>\n",
       "      <th>Median_IN</th>\n",
       "    </tr>\n",
       "  </thead>\n",
       "  <tbody>\n",
       "    <tr>\n",
       "      <td>0</td>\n",
       "      <td>1990</td>\n",
       "      <td>0.211382</td>\n",
       "      <td>33290</td>\n",
       "      <td>57428</td>\n",
       "      <td>49864</td>\n",
       "      <td>52747</td>\n",
       "      <td>50318</td>\n",
       "    </tr>\n",
       "    <tr>\n",
       "      <td>1</td>\n",
       "      <td>1991</td>\n",
       "      <td>0.309211</td>\n",
       "      <td>33664</td>\n",
       "      <td>56793</td>\n",
       "      <td>49136</td>\n",
       "      <td>50003</td>\n",
       "      <td>48842</td>\n",
       "    </tr>\n",
       "    <tr>\n",
       "      <td>2</td>\n",
       "      <td>1992</td>\n",
       "      <td>0.192090</td>\n",
       "      <td>34903</td>\n",
       "      <td>57148</td>\n",
       "      <td>48114</td>\n",
       "      <td>49177</td>\n",
       "      <td>50192</td>\n",
       "    </tr>\n",
       "    <tr>\n",
       "      <td>3</td>\n",
       "      <td>1993</td>\n",
       "      <td>0.153110</td>\n",
       "      <td>34073</td>\n",
       "      <td>59182</td>\n",
       "      <td>48992</td>\n",
       "      <td>49296</td>\n",
       "      <td>50579</td>\n",
       "    </tr>\n",
       "    <tr>\n",
       "      <td>4</td>\n",
       "      <td>1994</td>\n",
       "      <td>0.122699</td>\n",
       "      <td>35331</td>\n",
       "      <td>63594</td>\n",
       "      <td>49241</td>\n",
       "      <td>51696</td>\n",
       "      <td>46827</td>\n",
       "    </tr>\n",
       "  </tbody>\n",
       "</table>\n",
       "</div>"
      ],
      "text/plain": [
       "   Year  % Large Cars  Median_CA  Median_CO  Median_NY  Median_TX  Median_IN\n",
       "0  1990      0.211382      33290      57428      49864      52747      50318\n",
       "1  1991      0.309211      33664      56793      49136      50003      48842\n",
       "2  1992      0.192090      34903      57148      48114      49177      50192\n",
       "3  1993      0.153110      34073      59182      48992      49296      50579\n",
       "4  1994      0.122699      35331      63594      49241      51696      46827"
      ]
     },
     "execution_count": 9,
     "metadata": {},
     "output_type": "execute_result"
    }
   ],
   "source": [
    "#HYPOTHESIS: Percentage of large cars on the market correlates with states' median income.\n",
    "\n",
    "carDF = pd.read_csv('Car_Detail.csv')\n",
    "houseDF = pd.read_csv('House_Detail.csv')\n",
    "\n",
    "#looking at states' yearly median income from 1990-2017\n",
    "CA_income = houseDF['Median_CA'][6:34].reset_index().drop('index',axis=1)\n",
    "TX_income = houseDF['Median_TX'][6:34].reset_index().drop('index',axis=1)\n",
    "CO_income = houseDF['Median_CO'][6:34].reset_index().drop('index',axis=1)\n",
    "NY_income = houseDF['Median_NY'][6:34].reset_index().drop('index',axis=1)\n",
    "IN_income = houseDF['Median_IN'][6:34].reset_index().drop('index',axis=1)\n",
    "\n",
    "\n",
    "finalDF = pd.DataFrame(columns = [\"Year\", '% Large Cars', 'Median_CA', \n",
    "                                 'Median_CO', 'Median_NY', 'Median_TX',\n",
    "                                 'Median_IN'])\n",
    "\n",
    "#calculating percentage of large cars on the market each year\n",
    "temp = carDF.groupby(['Year', 'Vehicle Size']).size().rename('count').reset_index()\n",
    "\n",
    "large_cars_year = []\n",
    "for i in range(1990,2018):\n",
    "    curr_year = i\n",
    "    \n",
    "    sub_data = temp[temp['Year'] == curr_year]\n",
    "    large_cars = int(sub_data[sub_data['Vehicle Size'] == 'Large']['count'])\n",
    "    total_cars = sum(sub_data['count'])\n",
    "    percent_large = large_cars/total_cars\n",
    "    large_cars_year.append(large_cars/total_cars)\n",
    "\n",
    "finalDF['Year'] = range(1990,2018)\n",
    "finalDF['Median_CA'] = CA_income\n",
    "finalDF['Median_CO'] = CO_income\n",
    "finalDF['Median_NY'] = NY_income\n",
    "finalDF['Median_TX'] = TX_income\n",
    "finalDF['Median_IN'] = IN_income\n",
    "finalDF['% Large Cars'] = large_cars_year\n",
    "\n",
    "finalDF.head(5)"
   ]
  },
  {
   "cell_type": "code",
   "execution_count": 10,
   "metadata": {},
   "outputs": [
    {
     "name": "stdout",
     "output_type": "stream",
     "text": [
      "Correlation between CA median income and % large cars is: 0.03902231250348974\n",
      "Correlation between CO median income and % large cars is: 0.24808639796514714\n",
      "Correlation between NY median income and % large cars is: 0.2638539326259151\n",
      "Correlation between TX median income and % large cars is: 0.17136212675596008\n",
      "Correlation between IN median income and % large cars is: 0.40816399318840113\n"
     ]
    },
    {
     "data": {
      "text/plain": [
       "<matplotlib.collections.PathCollection at 0x2dfcb6e4748>"
      ]
     },
     "execution_count": 10,
     "metadata": {},
     "output_type": "execute_result"
    },
    {
     "data": {
      "image/png": "[encoded data removed]",
      "text/plain": [
       "<Figure size 432x288 with 1 Axes>"
      ]
     },
     "metadata": {},
     "output_type": "display_data"
    }
   ],
   "source": [
    "ca_corr = finalDF['Median_CA'].corr(finalDF['% Large Cars'])\n",
    "co_corr = finalDF['Median_CO'].corr(finalDF['% Large Cars'])\n",
    "ny_corr = finalDF['Median_NY'].corr(finalDF['% Large Cars'])\n",
    "tx_corr = finalDF['Median_TX'].corr(finalDF['% Large Cars'])\n",
    "in_corr = finalDF['Median_IN'].corr(finalDF['% Large Cars'])\n",
    "\n",
    "print('Correlation between CA median income and % large cars is: ' + str(ca_corr))\n",
    "print('Correlation between CO median income and % large cars is: ' + str(co_corr))\n",
    "print('Correlation between NY median income and % large cars is: ' + str(ny_corr))\n",
    "print('Correlation between TX median income and % large cars is: ' + str(tx_corr))\n",
    "print('Correlation between IN median income and % large cars is: ' + str(in_corr))\n",
    "\n",
    "plt.scatter(finalDF['Median_IN'], finalDF['% Large Cars'])"
   ]
  },
  {
   "cell_type": "code",
   "execution_count": 8,
   "metadata": {},
   "outputs": [
    {
     "name": "stdout",
     "output_type": "stream",
     "text": [
      "0.40816399318840113\n"
     ]
    },
    {
     "data": {
      "text/plain": [
       "[<matplotlib.lines.Line2D at 0x2dfcb60ecc8>]"
      ]
     },
     "execution_count": 8,
     "metadata": {},
     "output_type": "execute_result"
    },
    {
     "data": {
      "image/png": "[encoded data removed]",
      "text/plain": [
       "<Figure size 432x288 with 1 Axes>"
      ]
     },
     "metadata": {},
     "output_type": "display_data"
    }
   ],
   "source": [
    "from sklearn import datasets, linear_model\n",
    "from scipy import stats\n",
    "from sklearn.metrics import mean_squared_error, r2_score\n",
    "\n",
    "slope, intercept, r_value, p_value, std_error = stats.linregress(finalDF['Median_IN'],finalDF['% Large Cars'])\n",
    "print(r_value)\n",
    "plt.scatter(finalDF['Median_IN'], finalDF['% Large Cars'])\n",
    "plt.plot(finalDF['Median_IN'], intercept + slope*finalDF['Median_IN'], 'r', label='fitted line')\n",
    "\n",
    "\n",
    "#CONCLUSION\n",
    "#The percentage of large cars on the market in a given year correlates most with the yearly median income in Indiana. \n",
    "#There appears to be almost no correlation, 0.039, between % of large cars and median income \n",
    "#in California; however, the correlation for the rest of the states are all weak-positive ones."
   ]
  }
 ],
 "metadata": {
  "kernelspec": {
   "display_name": "Python 3",
   "language": "python",
   "name": "python3"
  },
  "language_info": {
   "codemirror_mode": {
    "name": "ipython",
    "version": 3
   },
   "file_extension": ".py",
   "mimetype": "text/x-python",
   "name": "python",
   "nbconvert_exporter": "python",
   "pygments_lexer": "ipython3",
   "version": "3.7.4"
  }
 },
 "nbformat": 4,
 "nbformat_minor": 2
}
